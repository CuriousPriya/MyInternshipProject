{
 "cells": [
  {
   "cell_type": "code",
   "execution_count": 1,
   "id": "fe058971",
   "metadata": {},
   "outputs": [],
   "source": [
    "import random"
   ]
  },
  {
   "cell_type": "code",
   "execution_count": 15,
   "id": "14848da6",
   "metadata": {},
   "outputs": [],
   "source": [
    "letters=['a','b','c','d','e','f','g','h','i','j','k','l','m','n','o','p','q','r','s','t','u','v','w','x','y','z','A','B','C'\n",
    "        ,'D','E','F','G','H','I','J','K','L','M','N','O','P','Q','R','S','T','U','V','W','X','Y','Z']\n",
    "\n",
    "symbols=['!','#','$','%','&','(',')','*','+']\n",
    "\n",
    "numbers=['0','1','2','3','4','5','6','7','8','9']"
   ]
  },
  {
   "cell_type": "code",
   "execution_count": 18,
   "id": "7cbbf91c",
   "metadata": {},
   "outputs": [
    {
     "name": "stdout",
     "output_type": "stream",
     "text": [
      "Welcome to Password Generator!\n",
      "How many letters you want?4\n",
      "How many symbols you want?5\n",
      "How many numbers you want?3\n",
      "ckRj*&$(+066\n"
     ]
    }
   ],
   "source": [
    "#password generator without shuffling\n",
    "\n",
    "print('Welcome to Password Generator!')\n",
    "\n",
    "n_letters=int(input('How many letters you want?'))\n",
    "n_symbols=int(input('How many symbols you want?'))\n",
    "n_numbers=int(input('How many numbers you want?'))\n",
    "\n",
    "password=\"\"\n",
    "\n",
    "for i in range(1,n_letters+1):\n",
    "    char1 = random.choice(letters)\n",
    "    password=password+char1\n",
    "for j in range(1,n_symbols+1):\n",
    "    char2 = random.choice(symbols)\n",
    "    password=password+char2\n",
    "for k in range (1,n_numbers+1):\n",
    "    char3 = random.choice(numbers)\n",
    "    password=password+char3\n",
    "\n",
    "print(password)"
   ]
  },
  {
   "cell_type": "code",
   "execution_count": 34,
   "id": "07f475b8",
   "metadata": {},
   "outputs": [
    {
     "name": "stdout",
     "output_type": "stream",
     "text": [
      "Number of letters required:2\n",
      "Number of symbols required:3\n",
      "Number of numbers required:5\n",
      "['3', '3', '%', '(', '*', '0', '8', '8', '1', '1']\n",
      "['(', '8', '3', '1', '0', '*', '%', '3', '1', '8']\n",
      "(8310*%318\n"
     ]
    }
   ],
   "source": [
    "# password generator with shuffling\n",
    "\n",
    "n_letters = int(input('Number of letters required:'))\n",
    "n_symbols = int(input('Number of symbols required:'))\n",
    "n_numbers = int(input('Number of numbers required:'))\n",
    "\n",
    "password_list=[]\n",
    "\n",
    "for i in range(1,n_letters+1):\n",
    "    char1=random.choice(letters)\n",
    "    password_list.append(char)\n",
    "for i in range(1,n_symbols+1):\n",
    "    char2=random.choice(symbols)\n",
    "    password_list.append(char2)\n",
    "for i in range(1,n_numbers+1):\n",
    "    char3=random.choice(numbers)\n",
    "    password_list.append(char3)\n",
    "    \n",
    "print(password_list)\n",
    "random.shuffle(password_list)\n",
    "print(password_list)\n",
    "password=''\n",
    "for i in password_list:\n",
    "    password += i\n",
    "print(password)"
   ]
  },
  {
   "cell_type": "code",
   "execution_count": null,
   "id": "dc625c16",
   "metadata": {},
   "outputs": [],
   "source": []
  }
 ],
 "metadata": {
  "kernelspec": {
   "display_name": "Python 3 (ipykernel)",
   "language": "python",
   "name": "python3"
  },
  "language_info": {
   "codemirror_mode": {
    "name": "ipython",
    "version": 3
   },
   "file_extension": ".py",
   "mimetype": "text/x-python",
   "name": "python",
   "nbconvert_exporter": "python",
   "pygments_lexer": "ipython3",
   "version": "3.10.9"
  }
 },
 "nbformat": 4,
 "nbformat_minor": 5
}
